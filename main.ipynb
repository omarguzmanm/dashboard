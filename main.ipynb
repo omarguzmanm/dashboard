{
 "cells": [
  {
   "cell_type": "markdown",
   "metadata": {},
   "source": [
    "# Homework 4\n",
    "\n",
    "**Name:** Omar Alejandro Guzmán Munguía\n",
    "\n",
    "**e-mail:** omar.guzman5063@alumnos.udg.mx"
   ]
  },
  {
   "cell_type": "markdown",
   "metadata": {},
   "source": [
    "# INSTRUCTIONS"
   ]
  },
  {
   "cell_type": "markdown",
   "metadata": {},
   "source": [
    "**Minimum requirements:** \n",
    "\n",
    "- **Functions** that return the different types of trajectories: Brownian Motion (**BM**),\n",
    "Correlated Random Walk (**CRW**), and Lévy Flight (**LF**).\n",
    "- All functions must take as arguments the **number of steps**, **speed**, and **starting\n",
    "position**.\n",
    "    - In addition, **CRW** and **LF** functions must also take as an argument the **Cauchy\n",
    "coefficient**.\n",
    "    - Lastly, the **LF** function must also include the **Lévy exponent** (alpha) as an\n",
    "argument.\n",
    "\n",
    "- **Functions** that compute the metrics: Path length (**PL**), Mean Squared Displacement\n",
    "(**MSD**), and Turning Angle Distribution (**TAD**).\n",
    "\n",
    "**The dashboard should include at least the following functionalities:**\n",
    "- A panel to display the current trajectory (3D projection).\n",
    "- A panel to display the graphic for the metric of choice.\n",
    "- Radio Items (or a similar type of selector) to select the type of trajectory (BM, CRW, LF).\n",
    "- Drop down menu (or similar) to select the metric to be displayed (PL, MSD, TAD).\n",
    "- Widgets to the trajectories’ parameters (integer and floating point values). These widgets\n",
    "must be dynamically displayed according to the type of trajectory selected."
   ]
  },
  {
   "cell_type": "markdown",
   "metadata": {},
   "source": [
    "# MODULES"
   ]
  },
  {
   "cell_type": "code",
   "execution_count": null,
   "metadata": {},
   "outputs": [],
   "source": [
    "import panel as pn\n",
    "pn.extension()\n",
    "\n",
    "import panel.widgets as pnw\n",
    "\n",
    "import pandas as pd\n",
    "\n",
    "import numpy as np\n",
    "\n",
    "import plotly.graph_objects as go\n",
    "pn.extension('plotly')\n",
    "\n",
    "import math\n",
    "from scipy.stats import exponweib\n",
    "from scipy.stats import levy_stable\n",
    "from scipy.spatial import distance"
   ]
  },
  {
   "cell_type": "markdown",
   "metadata": {},
   "source": [
    "# CLASSES"
   ]
  },
  {
   "cell_type": "code",
   "execution_count": 18,
   "metadata": {},
   "outputs": [],
   "source": [
    "################# http://www.pygame.org/wiki/2DVectorClass ##################\n",
    "class Vec2d(object):\n",
    "    \"\"\"2d vector class, supports vector and scalar operators,\n",
    "       and also provides a bunch of high level functions\n",
    "       \"\"\"\n",
    "    __slots__ = ['x', 'y']\n",
    "\n",
    "    def __init__(self, x_or_pair, y = None):\n",
    "        if y == None:            \n",
    "            self.x = x_or_pair[0]\n",
    "            self.y = x_or_pair[1]\n",
    "        else:\n",
    "            self.x = x_or_pair\n",
    "            self.y = y\n",
    "            \n",
    "    # Addition\n",
    "    def __add__(self, other):\n",
    "        if isinstance(other, Vec2d):\n",
    "            return Vec2d(self.x + other.x, self.y + other.y)\n",
    "        elif hasattr(other, \"__getitem__\"):\n",
    "            return Vec2d(self.x + other[0], self.y + other[1])\n",
    "        else:\n",
    "            return Vec2d(self.x + other, self.y + other)\n",
    "\n",
    "    # Subtraction\n",
    "    def __sub__(self, other):\n",
    "        if isinstance(other, Vec2d):\n",
    "            return Vec2d(self.x - other.x, self.y - other.y)\n",
    "        elif (hasattr(other, \"__getitem__\")):\n",
    "            return Vec2d(self.x - other[0], self.y - other[1])\n",
    "        else:\n",
    "            return Vec2d(self.x - other, self.y - other)\n",
    "    \n",
    "    # Vector length\n",
    "    def get_length(self):\n",
    "        return math.sqrt(self.x**2 + self.y**2)\n",
    "    \n",
    "    # rotate vector\n",
    "    def rotated(self, angle):        \n",
    "        cos = math.cos(angle)\n",
    "        sin = math.sin(angle)\n",
    "        x = self.x*cos - self.y*sin\n",
    "        y = self.x*sin + self.y*cos\n",
    "        return Vec2d(x, y)"
   ]
  },
  {
   "cell_type": "markdown",
   "metadata": {},
   "source": [
    "# FUNCTIONS"
   ]
  },
  {
   "cell_type": "code",
   "execution_count": 27,
   "metadata": {},
   "outputs": [],
   "source": [
    "###############################################################################################\n",
    "# Brownian Motion Trajectory\n",
    "###############################################################################################\n",
    "def bm_2d(n_steps=1000, speed=6, s_x_pos=0, s_y_pos=0):\n",
    "    \"\"\"\n",
    "    Arguments:\n",
    "        n_steps: \n",
    "        speed: \n",
    "        s_pos: \n",
    "    Returns:\n",
    "        BM_2d_df: \n",
    "    \"\"\"\n",
    "    # Init velocity vector\n",
    "    velocity = Vec2d(speed,0)\n",
    "\n",
    "    BM_2d_df = pd.DataFrame(columns = ['x_pos','y_pos'])\n",
    "    temp_df = pd.DataFrame([{'x_pos': s_x_pos, 'y_pos': s_y_pos}])\n",
    "    BM_2d_df = pd.concat([BM_2d_df, temp_df], ignore_index=True)\n",
    "\n",
    "\n",
    "    for i in range(n_steps-1):        \n",
    "        turn_angle = np.random.choice([0, np.pi/2, np.pi, 3*np.pi/2])\n",
    "        velocity = velocity.rotated(turn_angle)\n",
    "\n",
    "        temp_df = pd.DataFrame([{'x_pos': BM_2d_df.x_pos[i]+velocity.x, 'y_pos': BM_2d_df.y_pos[i]+velocity.y}])\n",
    "        BM_2d_df = pd.concat([BM_2d_df, temp_df], ignore_index=True)\n",
    "        \n",
    "    # return dataframe\n",
    "    return BM_2d_df"
   ]
  },
  {
   "cell_type": "code",
   "execution_count": 20,
   "metadata": {},
   "outputs": [],
   "source": [
    "#####################################################################################\n",
    "# Correlated Random Walk (CRW)\n",
    "#####################################################################################\n",
    "def crw_trajectory(n_steps=1000, speed=5, correlation_coeff=0.9, s_pos=0.0):\n",
    "    \"\"\"\n",
    "    Arguments\n",
    "    -----------\n",
    "        n_steps: Number of steps in the trajectory.\n",
    "        speed: Length of each step.\n",
    "        correlation_coeff: Correlation coefficient (between -1 and 1) that controls the correlation between consecutive steps.\n",
    "        s_pos: Initial direction of movement in radians (default is 0.0).\n",
    "\n",
    "    Returns\n",
    "    -----------\n",
    "        crw_df: A pandas DataFrame with columns ['x', 'y'] representing the trajectory.\n",
    "    \"\"\"\n",
    "    # Initialize the trajectory with the starting point at the origin\n",
    "    trajectory = [Vec2d(0.0, 0.0)]\n",
    "    \n",
    "    # Initialize the current direction\n",
    "    current_direction = s_pos\n",
    "    \n",
    "    for _ in range(n_steps):\n",
    "        # Generate a random angle change based on the correlation coefficient\n",
    "        angle_change = np.random.normal(0, np.sqrt(1 - correlation_coeff**2))\n",
    "        \n",
    "        # Update the current direction\n",
    "        current_direction += angle_change\n",
    "        \n",
    "        # Calculate the next step vector\n",
    "        next_step = Vec2d(speed, 0).rotated(current_direction)\n",
    "        \n",
    "        # Update the trajectory\n",
    "        next_position = trajectory[-1] + next_step\n",
    "        trajectory.append(next_position)\n",
    "    \n",
    "    # Convert the trajectory to a pandas DataFrame\n",
    "    crw_df = pd.DataFrame([(pos.x, pos.y) for pos in trajectory], columns=['x', 'y'])\n",
    "    \n",
    "    \n",
    "    return crw_df"
   ]
  },
  {
   "cell_type": "code",
   "execution_count": 21,
   "metadata": {},
   "outputs": [],
   "source": [
    "#####################################################################################\n",
    "# Path length\n",
    "#####################################################################################\n",
    "def path_length(trajectory_df, s_pos=[0]):\n",
    "    \"\"\"\n",
    "    Arguments\n",
    "    -----------\n",
    "        trajectory_df: DataFrame with the x and y positions of the trajectory.\n",
    "        s_pos: Starting position of the trajectory.\n",
    "\n",
    "    Returns\n",
    "    -----------\n",
    "        path_length: Length of the trajectory.\n",
    "    \"\"\"\n",
    "    # Initialize the path length\n",
    "    path_length = pd.DataFrame(columns=['y_pos'])\n",
    "    df = pd.DataFrame([{'y_pos':s_pos[0]}])\n",
    "\n",
    "    path_length = pd.concat([path_length, df], ignore_index=True)\n",
    "\n",
    "    for i in range(len(trajectory_df)-1):\n",
    "        df = pd.DataFrame([{'y_pos':path_length.y_pos[i] + distance.euclidean(trajectory_df.iloc[i], trajectory_df.iloc[i+1])}])\n",
    "        path_length = pd.concat([path_length, df], ignore_index=True)\n",
    "        \n",
    "    return path_length"
   ]
  },
  {
   "cell_type": "code",
   "execution_count": 22,
   "metadata": {},
   "outputs": [],
   "source": [
    "#####################################################################################\n",
    "# Mean Squared Displacement (MSD)\n",
    "#####################################################################################\n",
    "def msd(trajectory_df):\n",
    "    \"\"\"    \n",
    "    Arguments\n",
    "    -----------\n",
    "        trajectory_df: DataFrame with columns \n",
    "    \n",
    "    Returns\n",
    "    -----------\n",
    "        msd_df: DataFrame with columns ['tau', 'msd'] (time lag vs MSD).\n",
    "    \"\"\"\n",
    "    x_col = 'x' if 'x' in trajectory_df.columns else 'x_pos'\n",
    "    y_col = 'y' if 'y' in trajectory_df.columns else 'y_pos'\n",
    "    \n",
    "    # Extract coordinates\n",
    "    x = trajectory_df[x_col].values\n",
    "    y = trajectory_df[y_col].values\n",
    "    n = len(x)\n",
    "    \n",
    "    msd_values = np.zeros(n - 1)  # Store MSD values\n",
    "    taus = np.arange(1, n)  # All possible time lags\n",
    "    \n",
    "    for tau in taus:\n",
    "        displacements = (x[tau:] - x[:-tau])**2 + (y[tau:] - y[:-tau])**2\n",
    "        msd_values[tau - 1] = np.mean(displacements)  # Store MSD value for this tau\n",
    "    \n",
    "    return pd.DataFrame({'tau': taus, 'msd': msd_values})  "
   ]
  },
  {
   "cell_type": "code",
   "execution_count": 23,
   "metadata": {},
   "outputs": [],
   "source": [
    "#####################################################################################\n",
    "# Turning angles\n",
    "#####################################################################################\n",
    "def turning_angles(trajectory_df):\n",
    "    \"\"\"    \n",
    "    Arguments\n",
    "    -----------\n",
    "        trajectory_df: DataFrame with 'x' and 'y' columns\n",
    "    \n",
    "    Returns\n",
    "    -----------\n",
    "        numpy: Array of turning angles\n",
    "    \"\"\"\n",
    "    x = trajectory_df['x'].values\n",
    "    y = trajectory_df['y'].values\n",
    "    \n",
    "    # Calculate directions (angles) between consecutive points\n",
    "    dx = np.diff(x)\n",
    "    dy = np.diff(y)\n",
    "    directions = np.arctan2(dy, dx)\n",
    "    \n",
    "    # Calculate turning angles (differences between consecutive directions)\n",
    "    turning_angles = np.diff(directions)\n",
    "    \n",
    "    # Normalize angles to be between -π and π\n",
    "    turning_angles = np.mod(turning_angles + np.pi, 2 * np.pi) - np.pi\n",
    "    \n",
    "    return turning_angles"
   ]
  },
  {
   "cell_type": "markdown",
   "metadata": {},
   "source": [
    "# WIDGETS"
   ]
  },
  {
   "cell_type": "code",
   "execution_count": 53,
   "metadata": {},
   "outputs": [
    {
     "data": {
      "application/vnd.jupyter.widget-view+json": {
       "model_id": "2db2128272d74997a54481423a6bb290",
       "version_major": 2,
       "version_minor": 0
      },
      "text/plain": [
       "BokehModel(combine_events=True, render_bundle={'docs_json': {'2bf23738-4586-4558-a9e4-d1909ff8ee20': {'version…"
      ]
     },
     "execution_count": 53,
     "metadata": {},
     "output_type": "execute_result"
    }
   ],
   "source": [
    "n_steps = pnw.IntSlider(name='Number of steps', width=160, value=500, step=100, start=10, end=1000)\n",
    "speed = pnw.IntSlider(name=\"Speed\", width=160, value=5, step=1, start=1, end=10)\n",
    "s_x_pos = pnw.IntInput(name='xInitPos', width=70, value=0, step=1, start=-500, end=500)\n",
    "s_y_pos = pnw.IntInput(name='yInitPos', width=70, value=0, step=1, start=-500, end=500)\n",
    "\n",
    "metrics_input = pnw.Select(name='Metrics type', options=['PL', 'MSD', 'TAD'], value='PL', width=160)\n",
    "\n",
    "@pn.depends(n_steps, speed, s_x_pos, s_y_pos)\n",
    "def plot_traj(n_steps, speed, s_x_pos, s_y_pos):\n",
    "    rw_df = bm_2d(n_steps, speed, s_x_pos, s_y_pos)\n",
    "\n",
    "    fig_rw = go.Figure()\n",
    "    fig_rw.add_trace(go.Scatter3d(x=rw_df.x_pos,\n",
    "                                  y=rw_df.y_pos,\n",
    "                                  z=rw_df.index,                                  \n",
    "                                  mode='lines',\n",
    "                                  line=dict(color='blue', width=2),\n",
    "                                  ))\n",
    "    return fig_rw\n",
    "\n",
    "miniPanel = pn.Column(pn.Row(n_steps, speed, s_x_pos, s_y_pos), metrics_input, plot_traj)\n",
    "miniPanel.servable()\n"
   ]
  },
  {
   "cell_type": "code",
   "execution_count": null,
   "metadata": {},
   "outputs": [],
   "source": [
    "y_input = pnw.IntInput(name='YinitPos', width=70, value=0, step=1, start=-500, end=500)\n",
    "s_x_pos = pnw.IntInput(name='Starting x position', value=0, step=1, start=-100, end=100)"
   ]
  }
 ],
 "metadata": {
  "kernelspec": {
   "display_name": "base",
   "language": "python",
   "name": "python3"
  },
  "language_info": {
   "codemirror_mode": {
    "name": "ipython",
    "version": 3
   },
   "file_extension": ".py",
   "mimetype": "text/x-python",
   "name": "python",
   "nbconvert_exporter": "python",
   "pygments_lexer": "ipython3",
   "version": "3.12.7"
  }
 },
 "nbformat": 4,
 "nbformat_minor": 4
}
